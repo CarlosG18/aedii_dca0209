{
 "cells": [
  {
   "cell_type": "markdown",
   "id": "cd076d64-b405-4496-a984-116937366cb3",
   "metadata": {},
   "source": [
    "# Carregando o grafo"
   ]
  },
  {
   "cell_type": "code",
   "execution_count": null,
   "id": "6b7ec8a4-afa5-4c9a-aa51-05f27ce30a74",
   "metadata": {},
   "outputs": [],
   "source": [
    "!pip install networkx"
   ]
  },
  {
   "cell_type": "markdown",
   "id": "88fc5335-44dd-4a28-9437-f0a57de42d2a",
   "metadata": {},
   "source": [
    "## Obtendo os k-cores do grafo"
   ]
  },
  {
   "cell_type": "code",
   "execution_count": null,
   "id": "6078219e-532e-4b02-921d-ed6c44cf2eb4",
   "metadata": {},
   "outputs": [],
   "source": [
    "import networkx as nx\n",
    "\n",
    "# Caminho para o arquivo GraphML\n",
    "caminho_arquivo = '../requisito1/grafo.graphml'\n",
    "\n",
    "# Carregar o grafo\n",
    "G = nx.read_graphml(caminho_arquivo)\n",
    "\n",
    "set([v for k,v in nx.core_number(G).items()])"
   ]
  },
  {
   "cell_type": "markdown",
   "id": "de238ce4-06e7-4f0d-8d2f-064be85ee19d",
   "metadata": {},
   "source": [
    "## Obtendo as páginas do 154-Core"
   ]
  },
  {
   "cell_type": "code",
   "execution_count": 41,
   "id": "59996d74-b51f-4a71-9f5a-cabc3da269ce",
   "metadata": {},
   "outputs": [
    {
     "name": "stdout",
     "output_type": "stream",
     "text": [
      "                             0\n",
      "0         Mixed-Interval Chord\n",
      "1                 Tone Cluster\n",
      "2                 Mystic Chord\n",
      "3           Secondary Dominant\n",
      "4  Quartal And Quintal Harmony\n",
      "5                   Open Chord\n",
      "6                Primary Triad\n",
      "7                 Farben Chord\n",
      "8              Complexe Sonore\n",
      "9         Secondary Supertonic\n"
     ]
    }
   ],
   "source": [
    "list_154_core = []\n",
    "\n",
    "for i in nx.k_core(G,154):\n",
    "  list_154_core.append(i)\n",
    "\n",
    "#obtendo 10 páginas com o 154-core\n",
    "df_154 = pd.DataFrame([page for page in list_154_core][:10])\n",
    "print(df_154)"
   ]
  },
  {
   "cell_type": "markdown",
   "id": "116ec60e-09e2-4ccf-8ada-aadaa1e6bef8",
   "metadata": {},
   "source": [
    "## Obtendo o 154-shell do grafo"
   ]
  },
  {
   "cell_type": "code",
   "execution_count": 52,
   "id": "bac079ba-e6b5-4106-b9a8-b54a8966d1af",
   "metadata": {},
   "outputs": [],
   "source": [
    "list_154_shell = []\n",
    "\n",
    "\n",
    "for i in nx.k_shell(G,154):\n",
    "    list_154_shell.append(i)"
   ]
  }
 ],
 "metadata": {
  "kernelspec": {
   "display_name": "Python 3 (ipykernel)",
   "language": "python",
   "name": "python3"
  },
  "language_info": {
   "codemirror_mode": {
    "name": "ipython",
    "version": 3
   },
   "file_extension": ".py",
   "mimetype": "text/x-python",
   "name": "python",
   "nbconvert_exporter": "python",
   "pygments_lexer": "ipython3",
   "version": "3.12.4"
  }
 },
 "nbformat": 4,
 "nbformat_minor": 5
}
