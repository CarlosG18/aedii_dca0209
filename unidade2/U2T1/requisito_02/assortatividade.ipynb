{
 "cells": [
  {
   "cell_type": "markdown",
   "id": "3b61dcee-60bf-4222-80d3-e66af9f1e3d9",
   "metadata": {},
   "source": [
    "# Estudo da Assortatividade dos grafos de co-autoria da URFN relacionados as ODS"
   ]
  },
  {
   "cell_type": "code",
   "execution_count": null,
   "id": "3c267d78-7ce8-4e5a-8b20-7d44f9603419",
   "metadata": {},
   "outputs": [],
   "source": [
    "!pip install networkx\n",
    "!pip install pandas\n",
    "!pip install matplotlib\n",
    "!pip install seaborn"
   ]
  },
  {
   "cell_type": "code",
   "execution_count": null,
   "id": "53ab826f-68ee-4b8b-81bb-fd665202aac3",
   "metadata": {},
   "outputs": [],
   "source": [
    "import networkx as nx\n",
    "import pandas as pd\n",
    "import matplotlib.pyplot as plt\n",
    "import seaborn as sns"
   ]
  },
  {
   "cell_type": "code",
   "execution_count": null,
   "id": "615c24de-c95d-4eb6-91c0-a27fc0cd0513",
   "metadata": {},
   "outputs": [],
   "source": [
    "# Criando funções auxialiares\n",
    "\n",
    "def create_graph(dataframe):\n",
    "    \"\"\"\n",
    "        função para criar o grafo de co-autoria\n",
    "\n",
    "        args:\n",
    "            - dataframe: dataframe relacionado a ODS\n",
    "            \n",
    "        return:\n",
    "            - graph: grafo de co-autoria\n",
    "    \"\"\"\n",
    "    graph = nx.Graph()\n",
    "\n",
    "    for index, row in dataframe.iterrows():\n",
    "        autores = row[\"Authors\"].split(\";\")\n",
    "        for autor in autores:\n",
    "            # criando os nós do grafo sobre a ods_1\n",
    "            graph.add_node(autor)\n",
    "    \n",
    "        for i, autor1 in enumerate(autores):\n",
    "            for j, autor2 in enumerate(autores):\n",
    "                if j != i:\n",
    "                    graph.add_edge(autor1,autor2)\n",
    "        \n",
    "    return graph\n",
    "\n",
    "def plot_graph(graph,titulo, mode=\"spring\"):\n",
    "    \"\"\"\n",
    "        função para plotar o grafo\n",
    "\n",
    "        args:\n",
    "            - graph: grafo a ser plotado\n",
    "            - titulo: titulo da imagem do grafo a ser plotado\n",
    "            - mode: tipo de visualização que o grafo será visualizado (spring,circular,kamada)\n",
    "\n",
    "        return:\n",
    "            - None\n",
    "    \"\"\"\n",
    "    # Plotando o grafo com um layout diferente\n",
    "    plt.figure(figsize=(12, 10))\n",
    "    \n",
    "    # Experimente diferentes layouts: spring_layout, circular_layout, kamada_kawai_layout\n",
    "    if mode == \"spring\":\n",
    "        pos = nx.spring_layout(graph, k=0.1)  # Ajuste o parâmetro 'k' conforme necessário\n",
    "    elif mode == \"circular\":\n",
    "        pos = nx.circular_layout(graph)\n",
    "    elif mode == \"kamada\":\n",
    "        pos = nx.kamada_kawai_layout(graph)\n",
    "    \n",
    "    # Ajustando estilos\n",
    "    nx.draw(graph, pos, with_labels=False, node_size=50, node_color=\"skyblue\", font_size=8, font_weight=\"bold\", edge_color=\"gray\", width=1, alpha=1)\n",
    "    plt.title(titulo)\n",
    "    plt.show()\n",
    "\n",
    "def calculate_graph_metrics(G):\n",
    "    \"\"\"\n",
    "        Função para calcular as metricas de um grafo\n",
    "\n",
    "        args:\n",
    "            - G: grafo a ser usado para recuperar as metricas\n",
    "\n",
    "        return:\n",
    "            - metrics: metricas obtidas do grafo passado como argumento\n",
    "    \"\"\"\n",
    "    metrics = {}\n",
    "    metrics['num_nodes'] = G.number_of_nodes()\n",
    "    metrics['num_edges'] = G.number_of_edges()\n",
    "    metrics['average_degree'] = sum(dict(G.degree()).values()) / G.number_of_nodes()\n",
    "    metrics['density'] = nx.density(G)\n",
    "    metrics['assortativity'] = nx.degree_assortativity_coefficient(G)\n",
    "    metrics['average_clustering'] = nx.average_clustering(G)\n",
    "    return metrics\n",
    "\n",
    "def plot_degree_assortativity(G, title, ax):\n",
    "    \"\"\"\n",
    "        Função para calcular a assortatividade em relação ao grau dos nós\n",
    "\n",
    "        args:\n",
    "            - G: grafo a ser trabalhado\n",
    "            - title: \n",
    "            - ax:\n",
    "\n",
    "        return:\n",
    "            - None;\n",
    "    \"\"\"\n",
    "    degree = dict(G.degree())\n",
    "    degree_assortativity = nx.degree_assortativity_coefficient(G)\n",
    "\n",
    "    x = []\n",
    "    y = []\n",
    "\n",
    "    for node in G.nodes():\n",
    "        neighbors = list(G.neighbors(node))\n",
    "        if len(neighbors) > 0:\n",
    "            avg_neighbor_degree = sum(degree[neighbor] for neighbor in neighbors) / len(neighbors)\n",
    "            x.append(degree[node])\n",
    "            y.append(avg_neighbor_degree)\n",
    "\n",
    "    sns.regplot(x=x, y=y, scatter_kws={'alpha':0.5}, line_kws={'color':'blue'}, ax=ax)\n",
    "    ax.set_xlabel('Grau do Nó')\n",
    "    ax.set_ylabel('Grau Médio dos Vizinhos')\n",
    "    ax.set_title(f'Assortatividade de Grau ({title}): {degree_assortativity:.4f}')\n",
    "    ax.grid(True)"
   ]
  },
  {
   "cell_type": "markdown",
   "id": "7603d9bd-105a-4aef-9690-8c9f98a6a014",
   "metadata": {},
   "source": [
    "## GRAFO ODS 1 - Erradicação da Pobreza"
   ]
  },
  {
   "cell_type": "code",
   "execution_count": null,
   "id": "5848dcd5-acb8-447e-b8b8-afc10195eec7",
   "metadata": {},
   "outputs": [],
   "source": [
    "# obtendo o dataframe da ods_1\n",
    "data_frame1 = pd.read_csv('../datasets/ods_1.csv')\n",
    "\n",
    "# criando o grafo da ods_1\n",
    "ods1_graph = create_graph(data_frame1)\n",
    "\n",
    "# metricas do grafo\n",
    "metrics_ods1_graph = calculate_graph_metrics(ods1_graph)\n",
    "print(f'metricas do grafo ODS 1 = \\n {metrics_ods1_graph}')\n",
    "\n",
    "# plotando o grafo\n",
    "plot_graph(ods1_graph, titulo=\"Grafo ODS 1\")"
   ]
  },
  {
   "cell_type": "markdown",
   "id": "881d8e14-d68b-4cd9-8ba0-2723dbebca51",
   "metadata": {},
   "source": [
    "## GRAFO ODS 2 - Fome Zero e Agricultura Sustentável"
   ]
  },
  {
   "cell_type": "code",
   "execution_count": null,
   "id": "faef7b28-39f0-4024-b633-614051ac84c8",
   "metadata": {},
   "outputs": [],
   "source": [
    "# obtendo o dataframe da ods_1\n",
    "data_frame2 = pd.read_csv('../datasets/ods_2.csv')\n",
    "\n",
    "# criando o grafo da ods_1\n",
    "ods2_graph = create_graph(data_frame2)\n",
    "        \n",
    "# metricas do grafo\n",
    "metrics_ods2_graph = calculate_graph_metrics(ods2_graph)\n",
    "print(f'metricas do grafo ODS 2 = \\n {metrics_ods2_graph}')\n",
    "\n",
    "# plotando o grafo\n",
    "plot_graph(ods2_graph, titulo=\"Grafo ODS 2\")"
   ]
  },
  {
   "cell_type": "markdown",
   "id": "2057f644-fc62-4abe-a3fc-a8c908b2d6c2",
   "metadata": {},
   "source": [
    "## GRAFO ODS 9: Indústria, Inovação e Infraestrutura"
   ]
  },
  {
   "cell_type": "code",
   "execution_count": null,
   "id": "bb95e9f7-fe4c-4322-acd7-2c30a7e7ea82",
   "metadata": {},
   "outputs": [],
   "source": [
    "# obtendo o dataframe da ods_1\n",
    "data_frame9 = pd.read_csv('../datasets/ods_9.csv')\n",
    "\n",
    "# criando o grafo da ods_1\n",
    "ods9_graph = create_graph(data_frame9)\n",
    "        \n",
    "# metricas do grafo\n",
    "metrics_ods9_graph = calculate_graph_metrics(ods9_graph)\n",
    "print(f'metricas do grafo ODS 9 = \\n {metrics_ods9_graph}')\n",
    "\n",
    "# plotando o grafo\n",
    "plot_graph(ods9_graph, titulo=\"Grafo ODS 9\")"
   ]
  },
  {
   "cell_type": "markdown",
   "id": "5320d9df-3a71-4a94-8e0d-e3abd1076b5e",
   "metadata": {},
   "source": [
    "## GRAFO ODS 11: Cidades e Comunidades Sustentáveis"
   ]
  },
  {
   "cell_type": "code",
   "execution_count": null,
   "id": "974aee07-11a4-4882-8dd7-f2d306608d80",
   "metadata": {
    "scrolled": true
   },
   "outputs": [],
   "source": [
    "# obtendo o dataframe da ods_1\n",
    "data_frame11 = pd.read_csv('../datasets/ods_11.csv')\n",
    "\n",
    "# criando o grafo da ods_1\n",
    "ods11_graph = create_graph(data_frame11)\n",
    "        \n",
    "# metricas do grafo\n",
    "metrics_ods11_graph = calculate_graph_metrics(ods11_graph)\n",
    "print(f'metricas do grafo ODS 11 = \\n {metrics_ods11_graph}')\n",
    "\n",
    "# plotando o grafo\n",
    "plot_graph(ods11_graph, titulo=\"Grafo ODS 11\")"
   ]
  },
  {
   "cell_type": "markdown",
   "id": "30351edf-84e2-4f70-afda-cb4a04c09832",
   "metadata": {},
   "source": [
    "## Obtendo o gráfico bipartido sobre a assortatividade em relação ao grau dos nós da rede"
   ]
  },
  {
   "cell_type": "code",
   "execution_count": null,
   "id": "f7322e90-886b-4b40-8743-58d3171cc87b",
   "metadata": {},
   "outputs": [],
   "source": [
    "# Criar um layout de grid para os gráficos de dispersão\n",
    "fig, axs = plt.subplots(2, 2, figsize=(15, 12))\n",
    "\n",
    "# Plotar cada ODS\n",
    "plot_degree_assortativity(ods1_graph, \"ODS 1\", axs[0, 0])\n",
    "plot_degree_assortativity(ods2_graph, \"ODS 2\", axs[0, 1])\n",
    "plot_degree_assortativity(ods9_graph, \"ODS 9\", axs[1, 0])\n",
    "plot_degree_assortativity(ods11_graph, \"ODS 11\", axs[1, 1])\n",
    "\n",
    "plt.tight_layout()\n",
    "plt.show()"
   ]
  }
 ],
 "metadata": {
  "kernelspec": {
   "display_name": "Python 3 (ipykernel)",
   "language": "python",
   "name": "python3"
  },
  "language_info": {
   "codemirror_mode": {
    "name": "ipython",
    "version": 3
   },
   "file_extension": ".py",
   "mimetype": "text/x-python",
   "name": "python",
   "nbconvert_exporter": "python",
   "pygments_lexer": "ipython3",
   "version": "3.12.4"
  }
 },
 "nbformat": 4,
 "nbformat_minor": 5
}
