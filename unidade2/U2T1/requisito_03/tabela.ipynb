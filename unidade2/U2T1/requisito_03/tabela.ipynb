{
 "cells": [
  {
   "cell_type": "markdown",
   "id": "daf192c2-e892-40cc-88e3-5b3ac433ebf0",
   "metadata": {},
   "source": [
    "# Tabela com metricas dos grafos estudados"
   ]
  },
  {
   "cell_type": "code",
   "execution_count": null,
   "id": "a5c55b5b-1246-44b8-9ffe-1fd31744bf18",
   "metadata": {},
   "outputs": [],
   "source": [
    "!pip install networkx\n",
    "!pip install pandas\n",
    "!pip install matplotlib\n",
    "!pip install seaborn"
   ]
  },
  {
   "cell_type": "code",
   "execution_count": null,
   "id": "04458953-0961-43f7-8567-bc4ea46ed1b9",
   "metadata": {},
   "outputs": [],
   "source": [
    "import networkx as nx\n",
    "import pandas as pd\n",
    "import matplotlib.pyplot as plt\n",
    "import seaborn as sns"
   ]
  },
  {
   "cell_type": "code",
   "execution_count": null,
   "id": "f31802e8-cc8c-4bd0-9354-8b6004f29ca7",
   "metadata": {},
   "outputs": [],
   "source": [
    "# Funções auxiliares\n",
    "\n",
    "def create_graph(dataframe):\n",
    "    \"\"\"\n",
    "        função para criar o grafo de co-autoria\n",
    "\n",
    "        args:\n",
    "            - dataframe: dataframe relacionado a ODS\n",
    "            \n",
    "        return:\n",
    "            - graph: grafo de co-autoria\n",
    "    \"\"\"\n",
    "    graph = nx.Graph()\n",
    "\n",
    "    for index, row in dataframe.iterrows():\n",
    "        autores = row[\"Authors\"].split(\";\")\n",
    "        for autor in autores:\n",
    "            # criando os nós do grafo sobre a ods_1\n",
    "            graph.add_node(autor)\n",
    "    \n",
    "        for i, autor1 in enumerate(autores):\n",
    "            for j, autor2 in enumerate(autores):\n",
    "                if j != i:\n",
    "                    graph.add_edge(autor1,autor2)\n",
    "        \n",
    "    return graph\n",
    "\n",
    "def calculate_network_metrics(G):\n",
    "    \"\"\"\n",
    "        Função para calcular as métricas da rede\n",
    "\n",
    "        \n",
    "    \"\"\"\n",
    "    \n",
    "    # Número de vértices (nós)\n",
    "    num_vertices = G.number_of_nodes()\n",
    "\n",
    "    # Número de arestas\n",
    "    num_edges = G.number_of_edges()\n",
    "\n",
    "    # Degree assortativity coefficient\n",
    "    assortativity = nx.degree_assortativity_coefficient(G)\n",
    "\n",
    "    # Número de componentes conectados\n",
    "    num_connected_components = nx.number_connected_components(G)\n",
    "\n",
    "    # Tamanho do maior componente conectado (GCC)\n",
    "    largest_cc = max(nx.connected_components(G), key=len)\n",
    "    size_largest_cc = len(largest_cc)\n",
    "\n",
    "    # Coeficiente de clustering médio\n",
    "    avg_clustering = nx.average_clustering(G)\n",
    "\n",
    "    return {\n",
    "        \"Qtd Vértices\": num_vertices,\n",
    "        \"Qtd Arestas\": num_edges,\n",
    "        \"Degree Assortativity Coefficient\": assortativity,\n",
    "        \"Qtd Comp. Conectados\": num_connected_components,\n",
    "        \"Tamanho do Comp. Gigante (GCC)\": size_largest_cc,\n",
    "        \"Coef. de Clustering\": avg_clustering\n",
    "    }\n",
    "\n"
   ]
  },
  {
   "cell_type": "code",
   "execution_count": null,
   "id": "ef303290-d4fa-46cb-849b-e961130e3d1c",
   "metadata": {},
   "outputs": [],
   "source": [
    "# obtendo os dataframes\n",
    "data_frame1 = pd.read_csv('../datasets/ods_1.csv')\n",
    "data_frame2 = pd.read_csv('../datasets/ods_2.csv')\n",
    "data_frame9 = pd.read_csv('../datasets/ods_9.csv')\n",
    "data_frame11 = pd.read_csv('../datasets/ods_11.csv')\n",
    "\n",
    "# criando os grafos\n",
    "ods1_graph = create_graph(data_frame1)\n",
    "ods2_graph = create_graph(data_frame2)\n",
    "ods9_graph = create_graph(data_frame9)\n",
    "ods11_graph = create_graph(data_frame11)\n",
    "\n",
    "# obtendo as metricas dos grafos\n",
    "metrics_ods1_graph = calculate_network_metrics(ods1_graph)\n",
    "metrics_ods2_graph = calculate_network_metrics(ods2_graph)\n",
    "metrics_ods9_graph = calculate_network_metrics(ods9_graph)\n",
    "metrics_ods11_graph = calculate_network_metrics(ods11_graph)"
   ]
  },
  {
   "cell_type": "code",
   "execution_count": null,
   "id": "289e5c10-a37a-4bb0-a393-11690c4011cb",
   "metadata": {},
   "outputs": [],
   "source": [
    "# Criar um DataFrame para apresentar as métricas\n",
    "df_metrics = pd.DataFrame([metrics_ods1_graph, metrics_ods2_graph, metrics_ods9_graph, metrics_ods11_graph],\n",
    "                          index=['ODS 1', 'ODS 2', 'ODS 9', 'ODS 11'])\n",
    "\n",
    "print(df_metrics)"
   ]
  }
 ],
 "metadata": {
  "kernelspec": {
   "display_name": "Python 3 (ipykernel)",
   "language": "python",
   "name": "python3"
  },
  "language_info": {
   "codemirror_mode": {
    "name": "ipython",
    "version": 3
   },
   "file_extension": ".py",
   "mimetype": "text/x-python",
   "name": "python",
   "nbconvert_exporter": "python",
   "pygments_lexer": "ipython3",
   "version": "3.12.4"
  }
 },
 "nbformat": 4,
 "nbformat_minor": 5
}
